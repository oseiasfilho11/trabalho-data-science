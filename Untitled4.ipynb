{
 "cells": [
  {
   "cell_type": "code",
   "execution_count": 1,
   "id": "3878a3f5",
   "metadata": {},
   "outputs": [],
   "source": [
    "import pandas as pd\n",
    "import numpy as np\n",
    "import matplotlib.pyplot as plt"
   ]
  },
  {
   "cell_type": "code",
   "execution_count": 14,
   "id": "51ecf7e2",
   "metadata": {},
   "outputs": [],
   "source": [
    "desired_width = 320\n",
    "pd.set_option(\"display.width\", desired_width)\n",
    "pd.set_option(\"display.precision\", 2)\n",
    "df = pd.read_csv(\"World Crime Index .csv\")"
   ]
  },
  {
   "cell_type": "code",
   "execution_count": 15,
   "id": "f48c0ac3",
   "metadata": {},
   "outputs": [
    {
     "data": {
      "text/html": [
       "<div>\n",
       "<style scoped>\n",
       "    .dataframe tbody tr th:only-of-type {\n",
       "        vertical-align: middle;\n",
       "    }\n",
       "\n",
       "    .dataframe tbody tr th {\n",
       "        vertical-align: top;\n",
       "    }\n",
       "\n",
       "    .dataframe thead th {\n",
       "        text-align: right;\n",
       "    }\n",
       "</style>\n",
       "<table border=\"1\" class=\"dataframe\">\n",
       "  <thead>\n",
       "    <tr style=\"text-align: right;\">\n",
       "      <th></th>\n",
       "      <th>Rank</th>\n",
       "      <th>City</th>\n",
       "      <th>Crime Index</th>\n",
       "      <th>Safety Index</th>\n",
       "    </tr>\n",
       "  </thead>\n",
       "  <tbody>\n",
       "    <tr>\n",
       "      <th>0</th>\n",
       "      <td>1</td>\n",
       "      <td>Caracas, Venezuela</td>\n",
       "      <td>83.98</td>\n",
       "      <td>16.02</td>\n",
       "    </tr>\n",
       "    <tr>\n",
       "      <th>1</th>\n",
       "      <td>2</td>\n",
       "      <td>Pretoria, South Africa</td>\n",
       "      <td>81.98</td>\n",
       "      <td>18.02</td>\n",
       "    </tr>\n",
       "    <tr>\n",
       "      <th>2</th>\n",
       "      <td>3</td>\n",
       "      <td>Celaya, Mexico</td>\n",
       "      <td>81.80</td>\n",
       "      <td>18.20</td>\n",
       "    </tr>\n",
       "    <tr>\n",
       "      <th>3</th>\n",
       "      <td>4</td>\n",
       "      <td>San Pedro Sula, Honduras</td>\n",
       "      <td>80.87</td>\n",
       "      <td>19.13</td>\n",
       "    </tr>\n",
       "    <tr>\n",
       "      <th>4</th>\n",
       "      <td>5</td>\n",
       "      <td>Port Moresby, Papua New Guinea</td>\n",
       "      <td>80.71</td>\n",
       "      <td>19.29</td>\n",
       "    </tr>\n",
       "    <tr>\n",
       "      <th>...</th>\n",
       "      <td>...</td>\n",
       "      <td>...</td>\n",
       "      <td>...</td>\n",
       "      <td>...</td>\n",
       "    </tr>\n",
       "    <tr>\n",
       "      <th>448</th>\n",
       "      <td>449</td>\n",
       "      <td>Quebec City, Canada</td>\n",
       "      <td>15.14</td>\n",
       "      <td>84.86</td>\n",
       "    </tr>\n",
       "    <tr>\n",
       "      <th>449</th>\n",
       "      <td>450</td>\n",
       "      <td>Taipei, Taiwan</td>\n",
       "      <td>15.05</td>\n",
       "      <td>84.95</td>\n",
       "    </tr>\n",
       "    <tr>\n",
       "      <th>450</th>\n",
       "      <td>451</td>\n",
       "      <td>San Sebastian, Spain</td>\n",
       "      <td>14.86</td>\n",
       "      <td>85.14</td>\n",
       "    </tr>\n",
       "    <tr>\n",
       "      <th>451</th>\n",
       "      <td>452</td>\n",
       "      <td>Doha, Qatar</td>\n",
       "      <td>13.96</td>\n",
       "      <td>86.04</td>\n",
       "    </tr>\n",
       "    <tr>\n",
       "      <th>452</th>\n",
       "      <td>453</td>\n",
       "      <td>Abu Dhabi, United Arab Emirates</td>\n",
       "      <td>11.67</td>\n",
       "      <td>88.33</td>\n",
       "    </tr>\n",
       "  </tbody>\n",
       "</table>\n",
       "<p>453 rows × 4 columns</p>\n",
       "</div>"
      ],
      "text/plain": [
       "     Rank                             City  Crime Index  Safety Index\n",
       "0       1               Caracas, Venezuela        83.98         16.02\n",
       "1       2           Pretoria, South Africa        81.98         18.02\n",
       "2       3                   Celaya, Mexico        81.80         18.20\n",
       "3       4         San Pedro Sula, Honduras        80.87         19.13\n",
       "4       5   Port Moresby, Papua New Guinea        80.71         19.29\n",
       "..    ...                              ...          ...           ...\n",
       "448   449              Quebec City, Canada        15.14         84.86\n",
       "449   450                   Taipei, Taiwan        15.05         84.95\n",
       "450   451             San Sebastian, Spain        14.86         85.14\n",
       "451   452                      Doha, Qatar        13.96         86.04\n",
       "452   453  Abu Dhabi, United Arab Emirates        11.67         88.33\n",
       "\n",
       "[453 rows x 4 columns]"
      ]
     },
     "execution_count": 15,
     "metadata": {},
     "output_type": "execute_result"
    }
   ],
   "source": [
    "df"
   ]
  },
  {
   "cell_type": "code",
   "execution_count": 4,
   "id": "5dc47628",
   "metadata": {},
   "outputs": [],
   "source": [
    "#no dataframe acima temos informações acerca do indice de climinalidade e segurança de varias cidades ao redor do mundo.\n",
    "#logo de cara vemos que na coluna cidade ou 'city' tem não apenas o nome da cidade, mas o pais, vamos criar uma nova apenas com \n",
    "#o pais e tentaremos criar um grafico de qual pais tem uma seguranca melhor"
   ]
  },
  {
   "cell_type": "code",
   "execution_count": 16,
   "id": "07d8d11a",
   "metadata": {},
   "outputs": [
    {
     "name": "stdout",
     "output_type": "stream",
     "text": [
      "<class 'pandas.core.frame.DataFrame'>\n",
      "RangeIndex: 453 entries, 0 to 452\n",
      "Data columns (total 4 columns):\n",
      " #   Column        Non-Null Count  Dtype  \n",
      "---  ------        --------------  -----  \n",
      " 0   Rank          453 non-null    int64  \n",
      " 1   City          453 non-null    object \n",
      " 2   Crime Index   453 non-null    float64\n",
      " 3   Safety Index  453 non-null    float64\n",
      "dtypes: float64(2), int64(1), object(1)\n",
      "memory usage: 14.3+ KB\n"
     ]
    }
   ],
   "source": [
    "df.info()"
   ]
  },
  {
   "cell_type": "code",
   "execution_count": null,
   "id": "58a635af",
   "metadata": {},
   "outputs": [],
   "source": [
    "#com a função info conseguimos extrair as informações relativas a cada coluna"
   ]
  },
  {
   "cell_type": "code",
   "execution_count": 17,
   "id": "8b102b29",
   "metadata": {},
   "outputs": [],
   "source": [
    "df['Pais'] = df['City'].apply(lambda x: x.split(',')[-1])"
   ]
  },
  {
   "cell_type": "code",
   "execution_count": 20,
   "id": "da88a906",
   "metadata": {},
   "outputs": [
    {
     "data": {
      "text/html": [
       "<div>\n",
       "<style scoped>\n",
       "    .dataframe tbody tr th:only-of-type {\n",
       "        vertical-align: middle;\n",
       "    }\n",
       "\n",
       "    .dataframe tbody tr th {\n",
       "        vertical-align: top;\n",
       "    }\n",
       "\n",
       "    .dataframe thead th {\n",
       "        text-align: right;\n",
       "    }\n",
       "</style>\n",
       "<table border=\"1\" class=\"dataframe\">\n",
       "  <thead>\n",
       "    <tr style=\"text-align: right;\">\n",
       "      <th></th>\n",
       "      <th>Rank</th>\n",
       "      <th>City</th>\n",
       "      <th>Crime Index</th>\n",
       "      <th>Safety Index</th>\n",
       "      <th>Pais</th>\n",
       "    </tr>\n",
       "  </thead>\n",
       "  <tbody>\n",
       "    <tr>\n",
       "      <th>0</th>\n",
       "      <td>1</td>\n",
       "      <td>Caracas, Venezuela</td>\n",
       "      <td>83.98</td>\n",
       "      <td>16.02</td>\n",
       "      <td>Venezuela</td>\n",
       "    </tr>\n",
       "    <tr>\n",
       "      <th>1</th>\n",
       "      <td>2</td>\n",
       "      <td>Pretoria, South Africa</td>\n",
       "      <td>81.98</td>\n",
       "      <td>18.02</td>\n",
       "      <td>South Africa</td>\n",
       "    </tr>\n",
       "    <tr>\n",
       "      <th>2</th>\n",
       "      <td>3</td>\n",
       "      <td>Celaya, Mexico</td>\n",
       "      <td>81.80</td>\n",
       "      <td>18.20</td>\n",
       "      <td>Mexico</td>\n",
       "    </tr>\n",
       "    <tr>\n",
       "      <th>3</th>\n",
       "      <td>4</td>\n",
       "      <td>San Pedro Sula, Honduras</td>\n",
       "      <td>80.87</td>\n",
       "      <td>19.13</td>\n",
       "      <td>Honduras</td>\n",
       "    </tr>\n",
       "    <tr>\n",
       "      <th>4</th>\n",
       "      <td>5</td>\n",
       "      <td>Port Moresby, Papua New Guinea</td>\n",
       "      <td>80.71</td>\n",
       "      <td>19.29</td>\n",
       "      <td>Papua New Guinea</td>\n",
       "    </tr>\n",
       "    <tr>\n",
       "      <th>...</th>\n",
       "      <td>...</td>\n",
       "      <td>...</td>\n",
       "      <td>...</td>\n",
       "      <td>...</td>\n",
       "      <td>...</td>\n",
       "    </tr>\n",
       "    <tr>\n",
       "      <th>448</th>\n",
       "      <td>449</td>\n",
       "      <td>Quebec City, Canada</td>\n",
       "      <td>15.14</td>\n",
       "      <td>84.86</td>\n",
       "      <td>Canada</td>\n",
       "    </tr>\n",
       "    <tr>\n",
       "      <th>449</th>\n",
       "      <td>450</td>\n",
       "      <td>Taipei, Taiwan</td>\n",
       "      <td>15.05</td>\n",
       "      <td>84.95</td>\n",
       "      <td>Taiwan</td>\n",
       "    </tr>\n",
       "    <tr>\n",
       "      <th>450</th>\n",
       "      <td>451</td>\n",
       "      <td>San Sebastian, Spain</td>\n",
       "      <td>14.86</td>\n",
       "      <td>85.14</td>\n",
       "      <td>Spain</td>\n",
       "    </tr>\n",
       "    <tr>\n",
       "      <th>451</th>\n",
       "      <td>452</td>\n",
       "      <td>Doha, Qatar</td>\n",
       "      <td>13.96</td>\n",
       "      <td>86.04</td>\n",
       "      <td>Qatar</td>\n",
       "    </tr>\n",
       "    <tr>\n",
       "      <th>452</th>\n",
       "      <td>453</td>\n",
       "      <td>Abu Dhabi, United Arab Emirates</td>\n",
       "      <td>11.67</td>\n",
       "      <td>88.33</td>\n",
       "      <td>United Arab Emirates</td>\n",
       "    </tr>\n",
       "  </tbody>\n",
       "</table>\n",
       "<p>453 rows × 5 columns</p>\n",
       "</div>"
      ],
      "text/plain": [
       "     Rank                             City  Crime Index  Safety Index                   Pais\n",
       "0       1               Caracas, Venezuela        83.98         16.02              Venezuela\n",
       "1       2           Pretoria, South Africa        81.98         18.02           South Africa\n",
       "2       3                   Celaya, Mexico        81.80         18.20                 Mexico\n",
       "3       4         San Pedro Sula, Honduras        80.87         19.13               Honduras\n",
       "4       5   Port Moresby, Papua New Guinea        80.71         19.29       Papua New Guinea\n",
       "..    ...                              ...          ...           ...                    ...\n",
       "448   449              Quebec City, Canada        15.14         84.86                 Canada\n",
       "449   450                   Taipei, Taiwan        15.05         84.95                 Taiwan\n",
       "450   451             San Sebastian, Spain        14.86         85.14                  Spain\n",
       "451   452                      Doha, Qatar        13.96         86.04                  Qatar\n",
       "452   453  Abu Dhabi, United Arab Emirates        11.67         88.33   United Arab Emirates\n",
       "\n",
       "[453 rows x 5 columns]"
      ]
     },
     "execution_count": 20,
     "metadata": {},
     "output_type": "execute_result"
    }
   ],
   "source": [
    "df"
   ]
  },
  {
   "cell_type": "code",
   "execution_count": 9,
   "id": "68866c5b",
   "metadata": {},
   "outputs": [],
   "source": [
    "#acima usamos a função apply com uma função lambda que pega a palavra depois da virgula e coloca em uma nova coluna \"pais\""
   ]
  },
  {
   "cell_type": "code",
   "execution_count": 10,
   "id": "87b33ef9",
   "metadata": {},
   "outputs": [],
   "source": [
    "#como ja temos o pais em cada linha, vamos tentar remover o nome pais usando a mesma função"
   ]
  },
  {
   "cell_type": "code",
   "execution_count": 21,
   "id": "0ae74c48",
   "metadata": {},
   "outputs": [],
   "source": [
    "df['City'] = df['City'].apply(lambda x: x.split(',')[-2])"
   ]
  },
  {
   "cell_type": "code",
   "execution_count": 26,
   "id": "2c977262",
   "metadata": {},
   "outputs": [
    {
     "data": {
      "text/html": [
       "<div>\n",
       "<style scoped>\n",
       "    .dataframe tbody tr th:only-of-type {\n",
       "        vertical-align: middle;\n",
       "    }\n",
       "\n",
       "    .dataframe tbody tr th {\n",
       "        vertical-align: top;\n",
       "    }\n",
       "\n",
       "    .dataframe thead th {\n",
       "        text-align: right;\n",
       "    }\n",
       "</style>\n",
       "<table border=\"1\" class=\"dataframe\">\n",
       "  <thead>\n",
       "    <tr style=\"text-align: right;\">\n",
       "      <th></th>\n",
       "      <th>Rank</th>\n",
       "      <th>City</th>\n",
       "      <th>Crime Index</th>\n",
       "      <th>Safety Index</th>\n",
       "      <th>Pais</th>\n",
       "    </tr>\n",
       "  </thead>\n",
       "  <tbody>\n",
       "    <tr>\n",
       "      <th>0</th>\n",
       "      <td>1</td>\n",
       "      <td>Caracas</td>\n",
       "      <td>83.98</td>\n",
       "      <td>16.02</td>\n",
       "      <td>Venezuela</td>\n",
       "    </tr>\n",
       "    <tr>\n",
       "      <th>1</th>\n",
       "      <td>2</td>\n",
       "      <td>Pretoria</td>\n",
       "      <td>81.98</td>\n",
       "      <td>18.02</td>\n",
       "      <td>South Africa</td>\n",
       "    </tr>\n",
       "    <tr>\n",
       "      <th>2</th>\n",
       "      <td>3</td>\n",
       "      <td>Celaya</td>\n",
       "      <td>81.80</td>\n",
       "      <td>18.20</td>\n",
       "      <td>Mexico</td>\n",
       "    </tr>\n",
       "    <tr>\n",
       "      <th>3</th>\n",
       "      <td>4</td>\n",
       "      <td>San Pedro Sula</td>\n",
       "      <td>80.87</td>\n",
       "      <td>19.13</td>\n",
       "      <td>Honduras</td>\n",
       "    </tr>\n",
       "    <tr>\n",
       "      <th>4</th>\n",
       "      <td>5</td>\n",
       "      <td>Port Moresby</td>\n",
       "      <td>80.71</td>\n",
       "      <td>19.29</td>\n",
       "      <td>Papua New Guinea</td>\n",
       "    </tr>\n",
       "    <tr>\n",
       "      <th>...</th>\n",
       "      <td>...</td>\n",
       "      <td>...</td>\n",
       "      <td>...</td>\n",
       "      <td>...</td>\n",
       "      <td>...</td>\n",
       "    </tr>\n",
       "    <tr>\n",
       "      <th>448</th>\n",
       "      <td>449</td>\n",
       "      <td>Quebec City</td>\n",
       "      <td>15.14</td>\n",
       "      <td>84.86</td>\n",
       "      <td>Canada</td>\n",
       "    </tr>\n",
       "    <tr>\n",
       "      <th>449</th>\n",
       "      <td>450</td>\n",
       "      <td>Taipei</td>\n",
       "      <td>15.05</td>\n",
       "      <td>84.95</td>\n",
       "      <td>Taiwan</td>\n",
       "    </tr>\n",
       "    <tr>\n",
       "      <th>450</th>\n",
       "      <td>451</td>\n",
       "      <td>San Sebastian</td>\n",
       "      <td>14.86</td>\n",
       "      <td>85.14</td>\n",
       "      <td>Spain</td>\n",
       "    </tr>\n",
       "    <tr>\n",
       "      <th>451</th>\n",
       "      <td>452</td>\n",
       "      <td>Doha</td>\n",
       "      <td>13.96</td>\n",
       "      <td>86.04</td>\n",
       "      <td>Qatar</td>\n",
       "    </tr>\n",
       "    <tr>\n",
       "      <th>452</th>\n",
       "      <td>453</td>\n",
       "      <td>Abu Dhabi</td>\n",
       "      <td>11.67</td>\n",
       "      <td>88.33</td>\n",
       "      <td>United Arab Emirates</td>\n",
       "    </tr>\n",
       "  </tbody>\n",
       "</table>\n",
       "<p>453 rows × 5 columns</p>\n",
       "</div>"
      ],
      "text/plain": [
       "     Rank            City  Crime Index  Safety Index                   Pais\n",
       "0       1         Caracas        83.98         16.02              Venezuela\n",
       "1       2        Pretoria        81.98         18.02           South Africa\n",
       "2       3          Celaya        81.80         18.20                 Mexico\n",
       "3       4  San Pedro Sula        80.87         19.13               Honduras\n",
       "4       5    Port Moresby        80.71         19.29       Papua New Guinea\n",
       "..    ...             ...          ...           ...                    ...\n",
       "448   449     Quebec City        15.14         84.86                 Canada\n",
       "449   450          Taipei        15.05         84.95                 Taiwan\n",
       "450   451   San Sebastian        14.86         85.14                  Spain\n",
       "451   452            Doha        13.96         86.04                  Qatar\n",
       "452   453       Abu Dhabi        11.67         88.33   United Arab Emirates\n",
       "\n",
       "[453 rows x 5 columns]"
      ]
     },
     "execution_count": 26,
     "metadata": {},
     "output_type": "execute_result"
    }
   ],
   "source": [
    "df"
   ]
  },
  {
   "cell_type": "code",
   "execution_count": 35,
   "id": "42b212fb",
   "metadata": {},
   "outputs": [],
   "source": [
    "#vamos agora agrupar por pais"
   ]
  },
  {
   "cell_type": "code",
   "execution_count": 41,
   "id": "77fb62bd",
   "metadata": {},
   "outputs": [
    {
     "data": {
      "text/plain": [
       "Pais\n",
       " United States     58\n",
       " Canada            38\n",
       " India             25\n",
       " United Kingdom    18\n",
       " Australia         16\n",
       "                   ..\n",
       " Jamaica            1\n",
       " Iraq               1\n",
       " Iran               1\n",
       " Iceland            1\n",
       " Zimbabwe           1\n",
       "Name: City, Length: 118, dtype: int64"
      ]
     },
     "execution_count": 41,
     "metadata": {},
     "output_type": "execute_result"
    }
   ],
   "source": [
    "df.groupby('Pais')['City'].count().sort_values(ascending=False)"
   ]
  },
  {
   "cell_type": "code",
   "execution_count": null,
   "id": "4bb7ad00",
   "metadata": {},
   "outputs": [],
   "source": [
    "#temos a informação de quantas cidades por pais há no dataframe"
   ]
  },
  {
   "cell_type": "code",
   "execution_count": 47,
   "id": "ddf442bd",
   "metadata": {},
   "outputs": [
    {
     "data": {
      "text/plain": [
       "Pais\n",
       " United States          2824.20\n",
       " Canada                 2127.50\n",
       " India                  1416.19\n",
       " United Kingdom          962.05\n",
       " Germany                 947.13\n",
       "                         ...   \n",
       " Trinidad And Tobago      23.79\n",
       " Afghanistan              20.61\n",
       " Papua New Guinea         19.29\n",
       " Honduras                 19.13\n",
       " Venezuela                16.02\n",
       "Name: Safety Index, Length: 118, dtype: float64"
      ]
     },
     "execution_count": 47,
     "metadata": {},
     "output_type": "execute_result"
    }
   ],
   "source": [
    "df.groupby('Pais')['Safety Index'].sum().sort_values(ascending=False)"
   ]
  },
  {
   "cell_type": "code",
   "execution_count": 48,
   "id": "3165324e",
   "metadata": {},
   "outputs": [],
   "source": [
    "#acima temos as informações de somatorio dos indices de segurança de cada pais"
   ]
  },
  {
   "cell_type": "code",
   "execution_count": 49,
   "id": "a4496031",
   "metadata": {},
   "outputs": [
    {
     "data": {
      "text/plain": [
       "Pais\n",
       " United States     2975.80\n",
       " Canada            1672.50\n",
       " India             1083.81\n",
       " Brazil             877.64\n",
       " United Kingdom     837.95\n",
       "                    ...   \n",
       " Slovenia            21.48\n",
       " Bahrain             21.06\n",
       " Oman                20.54\n",
       " Taiwan              15.05\n",
       " Qatar               13.96\n",
       "Name: Crime Index, Length: 118, dtype: float64"
      ]
     },
     "execution_count": 49,
     "metadata": {},
     "output_type": "execute_result"
    }
   ],
   "source": [
    "df.groupby('Pais')['Crime Index'].sum().sort_values(ascending=False)"
   ]
  },
  {
   "cell_type": "code",
   "execution_count": 50,
   "id": "427d24eb",
   "metadata": {},
   "outputs": [],
   "source": [
    "#acima estão os pais com o somatorio do indice de crime de suas cidades"
   ]
  },
  {
   "cell_type": "code",
   "execution_count": 51,
   "id": "a1aa37f2",
   "metadata": {},
   "outputs": [],
   "source": [
    "#para fazer uma analise mais profunda podemos subtrair um indice pelo outro\n"
   ]
  },
  {
   "cell_type": "code",
   "execution_count": 111,
   "id": "5b6fd87f",
   "metadata": {},
   "outputs": [
    {
     "data": {
      "text/plain": [
       "Pais\n",
       " Canada           455.00\n",
       " Germany          394.26\n",
       " Switzerland      346.12\n",
       " India            332.38\n",
       " Spain            308.76\n",
       "                   ...  \n",
       " France           -93.76\n",
       " Argentina        -97.64\n",
       " United States   -151.60\n",
       " South Africa    -328.04\n",
       " Brazil          -455.28\n",
       "Length: 118, dtype: float64"
      ]
     },
     "execution_count": 111,
     "metadata": {},
     "output_type": "execute_result"
    }
   ],
   "source": [
    "(df.groupby('Pais')['Safety Index'].sum() - df.groupby('Pais')['Crime Index'].sum()).sort_values(ascending=False)"
   ]
  },
  {
   "cell_type": "code",
   "execution_count": 54,
   "id": "3f25373f",
   "metadata": {},
   "outputs": [],
   "source": [
    "#vamos criar dois graficos com os 30 paises com maiores indicies de cada indice"
   ]
  },
  {
   "cell_type": "code",
   "execution_count": 110,
   "id": "73a86962",
   "metadata": {},
   "outputs": [
    {
     "data": {
      "text/plain": [
       "Pais\n",
       " Qatar                   86.04\n",
       " United Arab Emirates    85.17\n",
       " Taiwan                  84.95\n",
       " Oman                    79.46\n",
       " Bahrain                 78.94\n",
       " Switzerland             78.84\n",
       " Slovenia                78.52\n",
       " Hong Kong               78.38\n",
       " Armenia                 78.34\n",
       " Estonia                 77.85\n",
       " Iceland                 76.98\n",
       " Rwanda                  75.84\n",
       " Denmark                 75.73\n",
       " Czech Republic          74.91\n",
       " Georgia                 74.84\n",
       " South Korea             74.62\n",
       " Croatia                 73.86\n",
       " Austria                 72.89\n",
       " Singapore               72.78\n",
       " Netherlands             72.77\n",
       " Finland                 72.24\n",
       " Japan                   71.93\n",
       " Saudi Arabia            71.48\n",
       " Norway                  70.39\n",
       " Slovakia                70.11\n",
       " Israel                  70.09\n",
       " Luxembourg              69.85\n",
       " Azerbaijan              69.64\n",
       " Kuwait                  69.45\n",
       " Cyprus                  69.04\n",
       "Name: Safety Index, dtype: float64"
      ]
     },
     "execution_count": 110,
     "metadata": {},
     "output_type": "execute_result"
    }
   ],
   "source": [
    "df.groupby('Pais')['Safety Index'].sum().sort_values(ascending=False).head(30)"
   ]
  },
  {
   "cell_type": "code",
   "execution_count": 105,
   "id": "72c48546",
   "metadata": {},
   "outputs": [],
   "source": [
    "df_safety = pd.DataFrame(df.groupby('Pais')['Safety Index'].sum().sort_values(ascending=False).head(30))"
   ]
  },
  {
   "cell_type": "code",
   "execution_count": 106,
   "id": "d99e8376",
   "metadata": {},
   "outputs": [],
   "source": [
    "df_safety.reset_index(inplace=True)"
   ]
  },
  {
   "cell_type": "code",
   "execution_count": 107,
   "id": "39637c9d",
   "metadata": {},
   "outputs": [
    {
     "data": {
      "text/html": [
       "<div>\n",
       "<style scoped>\n",
       "    .dataframe tbody tr th:only-of-type {\n",
       "        vertical-align: middle;\n",
       "    }\n",
       "\n",
       "    .dataframe tbody tr th {\n",
       "        vertical-align: top;\n",
       "    }\n",
       "\n",
       "    .dataframe thead th {\n",
       "        text-align: right;\n",
       "    }\n",
       "</style>\n",
       "<table border=\"1\" class=\"dataframe\">\n",
       "  <thead>\n",
       "    <tr style=\"text-align: right;\">\n",
       "      <th></th>\n",
       "      <th>Pais</th>\n",
       "      <th>Safety Index</th>\n",
       "    </tr>\n",
       "  </thead>\n",
       "  <tbody>\n",
       "    <tr>\n",
       "      <th>0</th>\n",
       "      <td>United States</td>\n",
       "      <td>2824.20</td>\n",
       "    </tr>\n",
       "    <tr>\n",
       "      <th>1</th>\n",
       "      <td>Canada</td>\n",
       "      <td>2127.50</td>\n",
       "    </tr>\n",
       "    <tr>\n",
       "      <th>2</th>\n",
       "      <td>India</td>\n",
       "      <td>1416.19</td>\n",
       "    </tr>\n",
       "    <tr>\n",
       "      <th>3</th>\n",
       "      <td>United Kingdom</td>\n",
       "      <td>962.05</td>\n",
       "    </tr>\n",
       "    <tr>\n",
       "      <th>4</th>\n",
       "      <td>Germany</td>\n",
       "      <td>947.13</td>\n",
       "    </tr>\n",
       "    <tr>\n",
       "      <th>5</th>\n",
       "      <td>Australia</td>\n",
       "      <td>859.62</td>\n",
       "    </tr>\n",
       "    <tr>\n",
       "      <th>6</th>\n",
       "      <td>Italy</td>\n",
       "      <td>634.66</td>\n",
       "    </tr>\n",
       "    <tr>\n",
       "      <th>7</th>\n",
       "      <td>Mexico</td>\n",
       "      <td>621.85</td>\n",
       "    </tr>\n",
       "    <tr>\n",
       "      <th>8</th>\n",
       "      <td>Spain</td>\n",
       "      <td>604.38</td>\n",
       "    </tr>\n",
       "    <tr>\n",
       "      <th>9</th>\n",
       "      <td>France</td>\n",
       "      <td>553.12</td>\n",
       "    </tr>\n",
       "    <tr>\n",
       "      <th>10</th>\n",
       "      <td>Romania</td>\n",
       "      <td>536.03</td>\n",
       "    </tr>\n",
       "    <tr>\n",
       "      <th>11</th>\n",
       "      <td>Switzerland</td>\n",
       "      <td>473.06</td>\n",
       "    </tr>\n",
       "    <tr>\n",
       "      <th>12</th>\n",
       "      <td>Poland</td>\n",
       "      <td>466.22</td>\n",
       "    </tr>\n",
       "    <tr>\n",
       "      <th>13</th>\n",
       "      <td>Netherlands</td>\n",
       "      <td>436.59</td>\n",
       "    </tr>\n",
       "    <tr>\n",
       "      <th>14</th>\n",
       "      <td>Brazil</td>\n",
       "      <td>422.36</td>\n",
       "    </tr>\n",
       "    <tr>\n",
       "      <th>15</th>\n",
       "      <td>Turkey</td>\n",
       "      <td>407.94</td>\n",
       "    </tr>\n",
       "    <tr>\n",
       "      <th>16</th>\n",
       "      <td>Russia</td>\n",
       "      <td>396.26</td>\n",
       "    </tr>\n",
       "    <tr>\n",
       "      <th>17</th>\n",
       "      <td>Philippines</td>\n",
       "      <td>377.72</td>\n",
       "    </tr>\n",
       "    <tr>\n",
       "      <th>18</th>\n",
       "      <td>Norway</td>\n",
       "      <td>351.95</td>\n",
       "    </tr>\n",
       "    <tr>\n",
       "      <th>19</th>\n",
       "      <td>United Arab Emirates</td>\n",
       "      <td>340.70</td>\n",
       "    </tr>\n",
       "    <tr>\n",
       "      <th>20</th>\n",
       "      <td>Ireland</td>\n",
       "      <td>289.63</td>\n",
       "    </tr>\n",
       "    <tr>\n",
       "      <th>21</th>\n",
       "      <td>Malaysia</td>\n",
       "      <td>285.66</td>\n",
       "    </tr>\n",
       "    <tr>\n",
       "      <th>22</th>\n",
       "      <td>Sweden</td>\n",
       "      <td>275.58</td>\n",
       "    </tr>\n",
       "    <tr>\n",
       "      <th>23</th>\n",
       "      <td>China</td>\n",
       "      <td>265.88</td>\n",
       "    </tr>\n",
       "    <tr>\n",
       "      <th>24</th>\n",
       "      <td>Ukraine</td>\n",
       "      <td>261.29</td>\n",
       "    </tr>\n",
       "    <tr>\n",
       "      <th>25</th>\n",
       "      <td>New Zealand</td>\n",
       "      <td>234.92</td>\n",
       "    </tr>\n",
       "    <tr>\n",
       "      <th>26</th>\n",
       "      <td>Pakistan</td>\n",
       "      <td>232.04</td>\n",
       "    </tr>\n",
       "    <tr>\n",
       "      <th>27</th>\n",
       "      <td>Denmark</td>\n",
       "      <td>227.19</td>\n",
       "    </tr>\n",
       "    <tr>\n",
       "      <th>28</th>\n",
       "      <td>Belgium</td>\n",
       "      <td>226.39</td>\n",
       "    </tr>\n",
       "    <tr>\n",
       "      <th>29</th>\n",
       "      <td>Croatia</td>\n",
       "      <td>221.59</td>\n",
       "    </tr>\n",
       "  </tbody>\n",
       "</table>\n",
       "</div>"
      ],
      "text/plain": [
       "                     Pais  Safety Index\n",
       "0           United States       2824.20\n",
       "1                  Canada       2127.50\n",
       "2                   India       1416.19\n",
       "3          United Kingdom        962.05\n",
       "4                 Germany        947.13\n",
       "5               Australia        859.62\n",
       "6                   Italy        634.66\n",
       "7                  Mexico        621.85\n",
       "8                   Spain        604.38\n",
       "9                  France        553.12\n",
       "10                Romania        536.03\n",
       "11            Switzerland        473.06\n",
       "12                 Poland        466.22\n",
       "13            Netherlands        436.59\n",
       "14                 Brazil        422.36\n",
       "15                 Turkey        407.94\n",
       "16                 Russia        396.26\n",
       "17            Philippines        377.72\n",
       "18                 Norway        351.95\n",
       "19   United Arab Emirates        340.70\n",
       "20                Ireland        289.63\n",
       "21               Malaysia        285.66\n",
       "22                 Sweden        275.58\n",
       "23                  China        265.88\n",
       "24                Ukraine        261.29\n",
       "25            New Zealand        234.92\n",
       "26               Pakistan        232.04\n",
       "27                Denmark        227.19\n",
       "28                Belgium        226.39\n",
       "29                Croatia        221.59"
      ]
     },
     "execution_count": 107,
     "metadata": {},
     "output_type": "execute_result"
    }
   ],
   "source": [
    "df_safety"
   ]
  },
  {
   "cell_type": "code",
   "execution_count": 108,
   "id": "4cc95a63",
   "metadata": {},
   "outputs": [],
   "source": [
    "#criamos acima um novo dataframe com os 30 paises mais seguros"
   ]
  },
  {
   "cell_type": "code",
   "execution_count": 112,
   "id": "39f2738d",
   "metadata": {},
   "outputs": [],
   "source": [
    "#porem não há muitas informações ai por conta que é um somatorio de indices, mas nem todos tem o mesmo numero de cidades \n",
    "#contabilizadas. Vamos criar um novo dataframe que tenha a media de cada pais"
   ]
  },
  {
   "cell_type": "code",
   "execution_count": 117,
   "id": "f93b17aa",
   "metadata": {},
   "outputs": [
    {
     "data": {
      "text/plain": [
       "Pais\n",
       " Qatar                   72.08\n",
       " United Arab Emirates    70.35\n",
       " Taiwan                  69.90\n",
       " Oman                    58.92\n",
       " Bahrain                 57.88\n",
       "                         ...  \n",
       " South Africa           -54.67\n",
       " Afghanistan            -58.78\n",
       " Papua New Guinea       -61.42\n",
       " Honduras               -61.74\n",
       " Venezuela              -67.96\n",
       "Length: 118, dtype: float64"
      ]
     },
     "execution_count": 117,
     "metadata": {},
     "output_type": "execute_result"
    }
   ],
   "source": [
    "(df.groupby('Pais')['Safety Index'].mean() - df.groupby('Pais')['Crime Index'].mean()).sort_values(ascending=False)"
   ]
  },
  {
   "cell_type": "code",
   "execution_count": 118,
   "id": "0f8940a9",
   "metadata": {},
   "outputs": [],
   "source": [
    "#agora temos informações mais claras de cada pais como um indice subtraindo o de segurança pelo o de crime"
   ]
  },
  {
   "cell_type": "code",
   "execution_count": 145,
   "id": "cd4e67fa",
   "metadata": {},
   "outputs": [],
   "source": [
    "df_mean_all = pd.DataFrame({\"Mean\" : (df.groupby('Pais')['Safety Index'].mean() - df.groupby('Pais')['Crime Index'].mean()).sort_values(ascending=False)})"
   ]
  },
  {
   "cell_type": "code",
   "execution_count": 147,
   "id": "0ebcbd81",
   "metadata": {},
   "outputs": [],
   "source": [
    "df_mean_all.reset_index(inplace=True)"
   ]
  },
  {
   "cell_type": "code",
   "execution_count": 148,
   "id": "f5733535",
   "metadata": {},
   "outputs": [
    {
     "data": {
      "text/html": [
       "<div>\n",
       "<style scoped>\n",
       "    .dataframe tbody tr th:only-of-type {\n",
       "        vertical-align: middle;\n",
       "    }\n",
       "\n",
       "    .dataframe tbody tr th {\n",
       "        vertical-align: top;\n",
       "    }\n",
       "\n",
       "    .dataframe thead th {\n",
       "        text-align: right;\n",
       "    }\n",
       "</style>\n",
       "<table border=\"1\" class=\"dataframe\">\n",
       "  <thead>\n",
       "    <tr style=\"text-align: right;\">\n",
       "      <th></th>\n",
       "      <th>Pais</th>\n",
       "      <th>Mean</th>\n",
       "    </tr>\n",
       "  </thead>\n",
       "  <tbody>\n",
       "    <tr>\n",
       "      <th>0</th>\n",
       "      <td>Qatar</td>\n",
       "      <td>72.08</td>\n",
       "    </tr>\n",
       "    <tr>\n",
       "      <th>1</th>\n",
       "      <td>United Arab Emirates</td>\n",
       "      <td>70.35</td>\n",
       "    </tr>\n",
       "    <tr>\n",
       "      <th>2</th>\n",
       "      <td>Taiwan</td>\n",
       "      <td>69.90</td>\n",
       "    </tr>\n",
       "    <tr>\n",
       "      <th>3</th>\n",
       "      <td>Oman</td>\n",
       "      <td>58.92</td>\n",
       "    </tr>\n",
       "    <tr>\n",
       "      <th>4</th>\n",
       "      <td>Bahrain</td>\n",
       "      <td>57.88</td>\n",
       "    </tr>\n",
       "    <tr>\n",
       "      <th>...</th>\n",
       "      <td>...</td>\n",
       "      <td>...</td>\n",
       "    </tr>\n",
       "    <tr>\n",
       "      <th>113</th>\n",
       "      <td>South Africa</td>\n",
       "      <td>-54.67</td>\n",
       "    </tr>\n",
       "    <tr>\n",
       "      <th>114</th>\n",
       "      <td>Afghanistan</td>\n",
       "      <td>-58.78</td>\n",
       "    </tr>\n",
       "    <tr>\n",
       "      <th>115</th>\n",
       "      <td>Papua New Guinea</td>\n",
       "      <td>-61.42</td>\n",
       "    </tr>\n",
       "    <tr>\n",
       "      <th>116</th>\n",
       "      <td>Honduras</td>\n",
       "      <td>-61.74</td>\n",
       "    </tr>\n",
       "    <tr>\n",
       "      <th>117</th>\n",
       "      <td>Venezuela</td>\n",
       "      <td>-67.96</td>\n",
       "    </tr>\n",
       "  </tbody>\n",
       "</table>\n",
       "<p>118 rows × 2 columns</p>\n",
       "</div>"
      ],
      "text/plain": [
       "                      Pais   Mean\n",
       "0                    Qatar  72.08\n",
       "1     United Arab Emirates  70.35\n",
       "2                   Taiwan  69.90\n",
       "3                     Oman  58.92\n",
       "4                  Bahrain  57.88\n",
       "..                     ...    ...\n",
       "113           South Africa -54.67\n",
       "114            Afghanistan -58.78\n",
       "115       Papua New Guinea -61.42\n",
       "116               Honduras -61.74\n",
       "117              Venezuela -67.96\n",
       "\n",
       "[118 rows x 2 columns]"
      ]
     },
     "execution_count": 148,
     "metadata": {},
     "output_type": "execute_result"
    }
   ],
   "source": [
    "df_mean_all"
   ]
  },
  {
   "cell_type": "code",
   "execution_count": 167,
   "id": "e022acc5",
   "metadata": {},
   "outputs": [
    {
     "data": {
      "image/png": "[encoded data removed]",
      "text/plain": [
       "<Figure size 640x480 with 1 Axes>"
      ]
     },
     "metadata": {},
     "output_type": "display_data"
    }
   ],
   "source": [
    "df_mean_all.head(30).plot(x='Pais', y=['Mean'], kind='barh')\n",
    "plt.show()"
   ]
  },
  {
   "cell_type": "code",
   "execution_count": 163,
   "id": "2005df6e",
   "metadata": {},
   "outputs": [],
   "source": [
    "#acima temos os trinta paises mais seguros do dataframe, para fazer dois menos seguros basta usar tail no lugar de head"
   ]
  },
  {
   "cell_type": "code",
   "execution_count": 168,
   "id": "9165f633",
   "metadata": {},
   "outputs": [
    {
     "data": {
      "image/png": "[encoded data removed]",
      "text/plain": [
       "<Figure size 640x480 with 1 Axes>"
      ]
     },
     "metadata": {},
     "output_type": "display_data"
    }
   ],
   "source": [
    "df_mean_all.tail(30).plot(x='Pais', y=['Mean'], kind='barh')\n",
    "plt.show()"
   ]
  },
  {
   "cell_type": "code",
   "execution_count": null,
   "id": "98eba8d6",
   "metadata": {},
   "outputs": [],
   "source": []
  }
 ],
 "metadata": {
  "kernelspec": {
   "display_name": "Python 3 (ipykernel)",
   "language": "python",
   "name": "python3"
  },
  "language_info": {
   "codemirror_mode": {
    "name": "ipython",
    "version": 3
   },
   "file_extension": ".py",
   "mimetype": "text/x-python",
   "name": "python",
   "nbconvert_exporter": "python",
   "pygments_lexer": "ipython3",
   "version": "3.10.5"
  }
 },
 "nbformat": 4,
 "nbformat_minor": 5
}
